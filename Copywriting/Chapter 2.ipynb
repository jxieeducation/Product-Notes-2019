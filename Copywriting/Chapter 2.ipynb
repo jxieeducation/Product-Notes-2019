{
 "cells": [
  {
   "cell_type": "markdown",
   "metadata": {},
   "source": [
    "\"You are not in the business of writing words. You are in the business of motivating people to take action\""
   ]
  },
  {
   "cell_type": "markdown",
   "metadata": {},
   "source": [
    "### how to sell anything\n",
    "* 3 main ideas:\n",
    "    * people don't like the idea of being sold\n",
    "    * people buy things for emotional reasons, not rational\n",
    "    * once sold, people need to satisfy their emotion with logic\n",
    "* people don't like being sold\n",
    "    * people like control, not to be sold\n",
    "    * e.g. car dealer helps you get a car, not push a car onto you\n",
    "    * start with: **needs, concerns, fears, problems**\n",
    "    * help customer with a problem or achieve a goal\n",
    "    * **don't apply pressure**, tempt instead (offer to give something)\n",
    "    * how to tempt someone\n",
    "        * not bore with reason\n",
    "        * not bully with force\n",
    "        * tease desires\n",
    "* **copy writing formula**\n",
    "    1. get attention\n",
    "    2. identify reader's problem\n",
    "    3. position product as a solution\n",
    "    4. prove value of your product versus the others\n",
    "    5. call for action\n"
   ]
  },
  {
   "cell_type": "markdown",
   "metadata": {},
   "source": [
    "### second rule of selling - people buy for emotional reasons\n",
    "* people buy for emotional, not rational reasons\n",
    "\n",
    "### third rule of selling - the rationale \n",
    "* needs to justify irrational reasons with rational ones\n",
    "* car commercial - stats about car - meant to help people feel good about already wanting the car"
   ]
  },
  {
   "cell_type": "markdown",
   "metadata": {},
   "source": [
    "### sales style\n",
    "* classifcal style\n",
    "    * stimulate prospect's desire\n",
    "* charismatic style\n",
    "    * not buying the product, buying the person\n",
    "    * to sell a product, you also need a \"salesman\" that goes with it"
   ]
  },
  {
   "cell_type": "markdown",
   "metadata": {},
   "source": [
    "### Know Thy Prospect\n",
    "* "
   ]
  },
  {
   "cell_type": "markdown",
   "metadata": {},
   "source": []
  },
  {
   "cell_type": "markdown",
   "metadata": {},
   "source": []
  },
  {
   "cell_type": "markdown",
   "metadata": {},
   "source": []
  }
 ],
 "metadata": {
  "kernelspec": {
   "display_name": "Python 2",
   "language": "python",
   "name": "python2"
  },
  "language_info": {
   "codemirror_mode": {
    "name": "ipython",
    "version": 2
   },
   "file_extension": ".py",
   "mimetype": "text/x-python",
   "name": "python",
   "nbconvert_exporter": "python",
   "pygments_lexer": "ipython2",
   "version": "2.7.16"
  }
 },
 "nbformat": 4,
 "nbformat_minor": 2
}
