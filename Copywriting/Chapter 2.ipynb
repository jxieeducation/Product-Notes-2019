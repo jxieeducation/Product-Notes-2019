{
 "cells": [
  {
   "cell_type": "markdown",
   "metadata": {},
   "source": [
    "### how to sell anything\n",
    "* 3 main ideas:\n",
    "    * people don't like the idea of being sold\n",
    "    * people buy things for emotional reasons, not rational\n",
    "    * once sold, people need to satisfy their emotion with logic\n",
    "* people don't like being sold\n",
    "    * people like control, not to be sold\n",
    "    * e.g. car dealer helps you get a car, not push a car onto you\n",
    "    * start with: **needs, concerns, fears, problems**\n",
    "    * help customer with a problem or achieve a goal\n",
    "    * **don't apply pressure**, tempt instead (offer to give something)\n",
    "    * how to tempt someone\n",
    "        * not bore with reason\n",
    "        * not bully with force\n",
    "        * tease desires\n",
    "* **copy writing formula**\n",
    "    1. get attention\n",
    "    2. identify reader's problem\n",
    "    3. position product as a solution\n",
    "    4. prove value of your product versus the others\n",
    "    5. call for action\n"
   ]
  },
  {
   "cell_type": "markdown",
   "metadata": {},
   "source": []
  },
  {
   "cell_type": "markdown",
   "metadata": {},
   "source": []
  },
  {
   "cell_type": "markdown",
   "metadata": {},
   "source": []
  },
  {
   "cell_type": "markdown",
   "metadata": {},
   "source": []
  },
  {
   "cell_type": "markdown",
   "metadata": {},
   "source": []
  },
  {
   "cell_type": "markdown",
   "metadata": {},
   "source": []
  }
 ],
 "metadata": {
  "kernelspec": {
   "display_name": "Python 2",
   "language": "python",
   "name": "python2"
  },
  "language_info": {
   "codemirror_mode": {
    "name": "ipython",
    "version": 2
   },
   "file_extension": ".py",
   "mimetype": "text/x-python",
   "name": "python",
   "nbconvert_exporter": "python",
   "pygments_lexer": "ipython2",
   "version": "2.7.16"
  }
 },
 "nbformat": 4,
 "nbformat_minor": 2
}
